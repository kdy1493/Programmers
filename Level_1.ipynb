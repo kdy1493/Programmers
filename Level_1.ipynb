{
 "cells": [
  {
   "attachments": {},
   "cell_type": "markdown",
   "metadata": {},
   "source": [
    "## 최소공배수 최대 공약수"
   ]
  },
  {
   "cell_type": "code",
   "execution_count": null,
   "metadata": {},
   "outputs": [],
   "source": [
    "# 두수의 최대공약수 최소 공배수 구하기 \n",
    "\n",
    "# 최대공약수 구하기 \n",
    "# 공통으로 갖고 있는 약수중 가장 큰거 \n",
    "# 큰수 부터 시작 -1 씩 줄어들면서 나눴을때 둘다 0이면 그게 촤대 공약수지 \n",
    "a, b= 3,12\n",
    "\n",
    "gcd = []\n",
    "for i in range(max(a,b),0, -1):\n",
    "    if a % i ==0 and b % i ==0 : \n",
    "        gcd.append(i)\n",
    "print(max(gcd))\n"
   ]
  },
  {
   "cell_type": "code",
   "execution_count": null,
   "metadata": {},
   "outputs": [],
   "source": [
    "# 최소 공배수 찾기 \n",
    "# 2, 15 의 최소공배수 찾기 \n",
    "#  3,4 가 들어오면 최소공배수가 12 임 그러면 \n",
    "# \n",
    "a, b = 3,12\n",
    "lcm =[]\n",
    "for i in range(max(a,b),(a*b)+1,1) : \n",
    "    if i % a ==0 and i % b ==0 : \n",
    "        lcm.append(i) \n",
    "print(min(lcm))\n",
    "      \n"
   ]
  },
  {
   "cell_type": "code",
   "execution_count": null,
   "metadata": {},
   "outputs": [],
   "source": [
    "# 최대공약수 최소공배수 // 처음 \n",
    "def solution(n, m):\n",
    "    answer = []\n",
    "\n",
    "# n, m 중 큰 값부터 1까지 반복 \n",
    " # n, m을 i로 나눴을 때 둘다 0이 되는 i의 최대값 찾기\n",
    "    for i in range(max(n,m),1, -1):     \n",
    "        if n % i ==0 and m % i ==0 :    \n",
    "            answer.append(i)\n",
    "\n",
    "# n , m 중 큰값부터 n*m 까지 반복 \n",
    "# i를 n,m으로 나눴을때 둘다 0의 되는 i의 최소값 찾기 \n",
    "    for i in range((n*m)+1,max(n,m),-1) : \n",
    "        if i % n ==0 and i % m ==0 : \n",
    "            answer.append(i) \n",
    "        \n",
    "    return answer"
   ]
  },
  {
   "cell_type": "code",
   "execution_count": null,
   "metadata": {},
   "outputs": [],
   "source": [
    "# 변형 유클리드 호제 법 \n",
    "# 2개의 자연수 a,b 에 대해 a를 b로 나눈 나머지를 r 이라고 하면 a b 의 최대공약수 는 b r 의 최대공약수와 같다 \n",
    "# 그래서 b를 r로 나눈 나머지를 r` 이라 하고 다시 r 을 r`으로 나누는 과정을 반복하며 나머지가 0이 나왔을때 나누는 수가 최대 공약수다 \n",
    "# G(a,b) = G(b, r) = G(r ,r`) ...... \n",
    "def solution1(n, m) : \n",
    "    a = n*m\n",
    "    answer = [] \n",
    "    # 유클리드 호제를 사용한 최대 공약수 구하기 \n",
    "    while m >0 : \n",
    "        n, m= m, n%m \n",
    "    answer.append(n) \n",
    "    \n",
    "    # 최소 공배수 구하기 \n",
    "    # 두수의 곱 = GCD X LCM \n",
    "    answer.append(a // n )\n",
    "    \n",
    "    return answer\n",
    "\n",
    "\n",
    "solution1(3,12)"
   ]
  },
  {
   "attachments": {},
   "cell_type": "markdown",
   "metadata": {},
   "source": [
    "## 체육복\n",
    "##문제 정리 \n",
    "- 빌려주는건 바로 앞이나 바로 뒤만 가능 \n",
    "- 학생이 최대한 많게끔 \n",
    "- 여벌을 가져온 학생이 도난 당했을수 있음, 그럼 얘는 빌려줄수 없음 \n",
    "- 그래도 지꺼는 있으니까 수업은 들을수있음\n",
    "- n : 총 학생수 , lost: 잃어버린 놈  reserve : 여벌가져온놈 \n",
    "\n",
    "- 기본적인거 총 5명 lost 2,4 / reserve 1,3,5 -> return 5 \n"
   ]
  },
  {
   "cell_type": "code",
   "execution_count": 17,
   "metadata": {},
   "outputs": [
    {
     "data": {
      "text/plain": [
       "([4], [3, 5])"
      ]
     },
     "execution_count": 17,
     "metadata": {},
     "output_type": "execute_result"
    }
   ],
   "source": [
    "n = 5\n",
    "lost = [ 2,4] \n",
    "reserve = [2,3,5 ]\n",
    "answer =  4 \n",
    "\n",
    "# lost 의 원소중 reserve에 같은 값이 있으면 제외\n",
    "# 전체 학생에서 잃어버린학생을 빼기 \n",
    "\n",
    "# for i in range(len(lost)) :\n",
    "#     if lost[i] in reserve : \n",
    "#         del reserve[i]\n",
    "def solution(n, lost, reserve) :\n",
    "    \n",
    "    lost.remove(lost[lost == reserve])\n",
    "    reserve.remove(reserve[lost == reserve])\n",
    "\n",
    "    for i in reserve : \n",
    "        if i-1 in lost : \n",
    "            lost.remove(i-1) \n",
    "        elif i+1 in reserve : \n",
    "            lost.remove(i+1)\n",
    "\n",
    "    return n-len(lost)\n",
    "\n"
   ]
  },
  {
   "attachments": {},
   "cell_type": "markdown",
   "metadata": {},
   "source": [
    "## 크레인 인형뽑기 게임 \n",
    "- board : 2차원 배열 \n",
    "- moves : 크레인 이동 위치 배열 \n",
    "- answer : 사라진 인형의 개수 \n",
    "- 0은 빈 칸 \n",
    "- 바구니에 같은 인형이 들어가면 사라짐"
   ]
  },
  {
   "cell_type": "code",
   "execution_count": 119,
   "metadata": {},
   "outputs": [
    {
     "data": {
      "text/plain": [
       "4"
      ]
     },
     "execution_count": 119,
     "metadata": {},
     "output_type": "execute_result"
    }
   ],
   "source": [
    "board = [[0,0,0,0,0],\n",
    "         [0,0,1,0,3],\n",
    "         [0,2,5,0,1],\n",
    "         [4,2,4,4,2],\n",
    "         [3,5,1,3,1]]\n",
    "\n",
    "moves = [1,5,3,5,1,2,1,4]\n",
    "\n",
    "# board 를 바꿔보자 \n",
    "# board 의 i번째 행의 j번째 요소들을 리스트로 만들고 이 리스트들을 모음\n",
    "board = [[board[i][j] for i in range(len(board))] for j in range(len(board))] \n",
    "\n",
    "# [[0, 0, 0, 4, 3],\n",
    "#  [0, 0, 2, 2, 5],\n",
    "#  [0, 1, 5, 4, 1],\n",
    "#  [0, 0, 0, 4, 3],\n",
    "#  [0, 3, 1, 2, 1]]\n",
    "\n",
    "# 4, 3, 1,1,3,2,0,4\n",
    "# moves 에서 \n",
    "# board 의 i-1 번째 행 에서 \n",
    "# 그 요소가 0이 아니면 \n",
    "# answer에 넣기 \n",
    "# 만약 answer에 같은 요소가 이미 있다면 넣지말고 이미있는 요소를 빼기 \n",
    "# board에선 그 요소를 빼기 \n",
    "# 반복 중지 \n",
    "\n",
    "answer = 0\n",
    "stack = []\n",
    "for i in moves : \n",
    "    for j in board[i-1]:\n",
    "        if j != 0 :\n",
    "            stack.append(j)\n",
    "            board[i-1].remove(j)\n",
    "            \n",
    "\n",
    "            if len(stack) > 1: \n",
    "                if stack[-1] == stack[-2] : \n",
    "                    stack.pop(-1) \n",
    "                    stack.pop(-1)\n",
    "                    answer+= 2 \n",
    "            break\n",
    "answer\n",
    "\n",
    "    "
   ]
  },
  {
   "cell_type": "code",
   "execution_count": 124,
   "metadata": {},
   "outputs": [
    {
     "data": {
      "text/plain": [
       "4"
      ]
     },
     "execution_count": 124,
     "metadata": {},
     "output_type": "execute_result"
    }
   ],
   "source": [
    "board = [[0,0,0,0,0],\n",
    "         [0,0,1,0,3],\n",
    "         [0,2,5,0,1],\n",
    "         [4,2,4,4,2],\n",
    "         [3,5,1,3,1]] \n",
    "\n",
    "answer =0 \n",
    "box = [] \n",
    "for i in moves : \n",
    "    for j in range(len(board)) : \n",
    "        if board[j][i-1] != 0 : \n",
    "            box.append(board[j][i-1]) \n",
    "            board[j][i-1] = 0\n",
    "            \n",
    "        \n",
    "            if len(box) > 1: \n",
    "                if box[-1] == box[-2] : \n",
    "                    box.pop(-1) \n",
    "                    box.pop(-1)\n",
    "                    answer+= 2 \n",
    "            break\n",
    "            \n",
    "answer"
   ]
  },
  {
   "cell_type": "markdown",
   "metadata": {},
   "source": [
    "## 평균 구하기"
   ]
  },
  {
   "cell_type": "code",
   "execution_count": 9,
   "metadata": {},
   "outputs": [
    {
     "data": {
      "text/plain": [
       "2.5"
      ]
     },
     "execution_count": 9,
     "metadata": {},
     "output_type": "execute_result"
    }
   ],
   "source": [
    "arr = [1,2,3,4] \n",
    "sum(arr)/ len(arr)"
   ]
  },
  {
   "attachments": {},
   "cell_type": "markdown",
   "metadata": {},
   "source": [
    "## 자릿수 더하기 \n",
    "    - 각 자릿수의 합을 구해서 return "
   ]
  },
  {
   "cell_type": "code",
   "execution_count": 21,
   "metadata": {},
   "outputs": [
    {
     "data": {
      "text/plain": [
       "24"
      ]
     },
     "execution_count": 21,
     "metadata": {},
     "output_type": "execute_result"
    }
   ],
   "source": [
    "a= 987 \n",
    "a = str(a) \n",
    "answer = 0\n",
    "for i in range(len(a)) : \n",
    "    answer += int(a[i])\n",
    "answer\n"
   ]
  },
  {
   "cell_type": "code",
   "execution_count": null,
   "metadata": {},
   "outputs": [],
   "source": [
    "# for문을 안쓰고 문제를 풀수 있음 \n",
    "a = 987 \n",
    "answer = 0 \n",
    "\n",
    "0\n"
   ]
  },
  {
   "cell_type": "markdown",
   "metadata": {},
   "source": [
    "# 기사단원의 무기 "
   ]
  },
  {
   "attachments": {},
   "cell_type": "markdown",
   "metadata": {},
   "source": [
    "- 문제 정리 \n",
    "-기사는 1~ number 까지 번호 지정되어 있음 \n",
    "- 무기는 기사번호의 약수의 개수에 해당되는 공격력을 가진 것만 가능 \n",
    "- 공격력의 제한수치정하고 이보다 큰 공격력을 가진 무기를 구매해야하면 지정된 공격력을 가진 무기를 구매해야함 \n",
    "\n",
    "- 철은 공격력의 1당 1kg 필요 \n",
    "\n",
    "- 철의 무게를 리턴 \n",
    "\n",
    "- 기사의 수 number \n",
    "- 공격력 제한 수치 limit \n",
    "- 제한수치 넘었을때 사용가능한 공격력 power \n",
    "- 무기점 주인이 필요한 철의 무게를 리턴 즉 공격력의 총 수를 리턴 \n",
    "\n"
   ]
  },
  {
   "cell_type": "code",
   "execution_count": 5,
   "metadata": {},
   "outputs": [
    {
     "data": {
      "text/plain": [
       "21"
      ]
     },
     "execution_count": 5,
     "metadata": {},
     "output_type": "execute_result"
    }
   ],
   "source": [
    "# 예시 \n",
    "# number = 10 // [1,2,3,4,5,6,7,8,9,10]\n",
    "# limit = 3\n",
    "# power =  2                                                                                                                                                                                                                                                                                                                                                                                                                                                                                                                                                                        \n",
    "# 약수의 개수 = [1,2,2,3,2,4,2,4,3,4]\n",
    "# 여기서 limit 를 넘는 것들은 power 로 바꿔 줌 \n",
    "# [1,2,2,3,2,2,2,2,3,2]  \n",
    "\n",
    "# 제일 중요한거는 약수의 개수를 알아내는것 "
   ]
  },
  {
   "cell_type": "code",
   "execution_count": 43,
   "metadata": {},
   "outputs": [
    {
     "data": {
      "text/plain": [
       "8"
      ]
     },
     "execution_count": 43,
     "metadata": {},
     "output_type": "execute_result"
    }
   ],
   "source": [
    "number =10 \n",
    "limit = 3\n",
    "power =2 \n",
    "\n",
    "def divisor(i,limit ,power ) : \n",
    "    count =0 \n",
    "    for j in range(1, int(i**0.5)+1 ) : \n",
    "        if i % j == 0: \n",
    "            if j == int(i**0.5): # 제곱근이라면 \n",
    "                count +=1 \n",
    "            else :\n",
    "                count +=2 \n",
    "            \n",
    "        if count > limit : \n",
    "            return power \n",
    "\n",
    "    return count \n",
    "\n",
    "def solution(number, limit, power):\n",
    "    answer = 1\n",
    "    for i in range(2, number+1):\n",
    "        counts = divisor(i, limit, power)\n",
    "        answer += counts\n",
    "\n",
    "    return answer\n",
    "\n",
    "solution(5,3,2)   "
   ]
  },
  {
   "attachments": {},
   "cell_type": "markdown",
   "metadata": {},
   "source": [
    "## 개인정보 수집 유효기간 \n",
    "- 개인 정보 n 개 \n",
    "- 예를 들어, A라는 약관의 유효기간이 12 달이고, 2021년 1월 5일에 수집된 개인정보가 A약관으로 수집되었다면 해당 개인정보는 2022년 1월 4일까지 보관 가능하며 2022년 1월 5일부터 파기해야 할 개인정보입니다.\n",
    "- 모든 달은 28일\n",
    "\n",
    "- 오늘 날ㅉ ㅏ문자열 today \n",
    "- 유효기간 담은 1차원 문자열 배열 terms \n",
    "- 개인정보의 정보 담은 1차원 문자열 배열 privacies \n",
    "-  파기할 번호 오름차순으로 배열에 담아 return "
   ]
  },
  {
   "cell_type": "code",
   "execution_count": 18,
   "metadata": {},
   "outputs": [
    {
     "data": {
      "text/plain": [
       "[1, 4, 5]"
      ]
     },
     "execution_count": 18,
     "metadata": {},
     "output_type": "execute_result"
    }
   ],
   "source": [
    "# datetime 라이브러리를 사용하려 했으나 \n",
    "# 모든 달은 28일 이여서 못씀 \n",
    "# 그러면 년월일을 다 일수로 바꾸서 계산 \n",
    "# 약관의 유효기간도 일 수로 바꿈 \n",
    "\n",
    "today = \"2020.01.01\" \n",
    "terms = [\"Z 3\", \"D 5\"]\n",
    "privacies = [\"2019.01.01 D\", \"2019.11.15 Z\", \"2019.08.02 D\", \"2019.07.01 D\", \"2018.12.28 Z\"]\n",
    "\n",
    "# 일 단위로 바꾸는 함수 \n",
    "def date_change(date):\n",
    "    y,m,d = date.split('.')\n",
    "    date = int(y)*12*28 + int(m)*28+int(d) \n",
    "    return date\n",
    "\n",
    "answer =[]\n",
    "# today 바꾸기 \n",
    "today = date_change(today) \n",
    "\n",
    "# terms 를 딕셔너리로 바꾸기\n",
    "terms = {i.split()[0] : int(i.split()[1])*28 for i in terms }\n",
    "\n",
    "# privacies 의 날짜도 다 일수로 바꾸기 \n",
    "# for j in privacies:\n",
    "#     date, c =j.split()\n",
    "#     date = date_change(date)\n",
    "\n",
    "#     if date+terms[c] <= today: \n",
    "        # 파기할번호는...?\n",
    "\n",
    "# 이렇게 하면 파기할 번호를 answer에 담을수가 없다...\n",
    "# enumerate를 사용하자 \n",
    "for j,p in enumerate(privacies) : \n",
    "    date, c = p.split() \n",
    "    date = date_change(date) \n",
    "\n",
    "    if date+terms[c] <= today : \n",
    "        answer.append(j+1) \n",
    "\n",
    "answer\n",
    "        \n",
    "    \n",
    "\n",
    "\n",
    "\n",
    "\n",
    "\n",
    "\n",
    "\n"
   ]
  },
  {
   "attachments": {},
   "cell_type": "markdown",
   "metadata": {},
   "source": [
    "# 신고 결과 받기 \n",
    "- 각 유저는 한번에 한명만 신고 가능 ( 신고 횟수 제한 없음 ) \n",
    "- 한 유저를 여러번 신고해도 신고 횟수는 1회로 침 \n",
    "\n",
    "- k번 이상 신고된 유저는 게시판 이용정지 , 이 유저를 신고한 유저에게 정지 사실이 메일로 감 \n",
    "\n",
    "- id_list : 이용자의 ID 문자열 배열 \n",
    "- report : 각 이용자가 신고한 이용자의 ID가 담긴 문자열 배열 \n",
    "- k : 정지 기준이 되는 신고횟수 \n",
    "- return : 각 유저별 처리결과메일을 받은 횟수 \n"
   ]
  },
  {
   "cell_type": "code",
   "execution_count": 53,
   "metadata": {},
   "outputs": [],
   "source": [
    "id_list = [\"muzi\", \"frodo\", \"apeach\", \"neo\"]\n",
    "report = [\"muzi frodo\",\"apeach frodo\",\"frodo neo\",\"muzi neo\",\"apeach muzi\"]\n",
    "k =2 "
   ]
  },
  {
   "cell_type": "code",
   "execution_count": 78,
   "metadata": {},
   "outputs": [
    {
     "data": {
      "text/plain": [
       "[dict_values([1, 2, 0, 2])]"
      ]
     },
     "execution_count": 78,
     "metadata": {},
     "output_type": "execute_result"
    }
   ],
   "source": [
    "# 일단 각자 신고 당한 횟수 파악 \n",
    "# 그럴러면 report 를 딕셔너리로 만들어 보자 \n",
    "# 근데 중복이 있어서 실패..\n",
    "# 그러면 id_list를 value 가 빈 딕셔너리로 만들고 \n",
    "# report의 split()[1] 의 개수만큼  id_list 의 value으로 설정 하면 ? 될수 도..? \n",
    "num_of_report= {i:0 for i in id_list}\n",
    "\n",
    "for j in report : \n",
    "    num = j.split()[1]\n",
    "    if num in num_of_report : \n",
    "        num_of_report[num]+=1 \n",
    "\n",
    "num_of_report.values()"
   ]
  },
  {
   "cell_type": "code",
   "execution_count": null,
   "metadata": {},
   "outputs": [],
   "source": [
    "# 그 후 각자 신고횟수와 k 를 비교 "
   ]
  },
  {
   "cell_type": "code",
   "execution_count": 66,
   "metadata": {},
   "outputs": [
    {
     "name": "stdout",
     "output_type": "stream",
     "text": [
      "frodo\n",
      "muzi\n"
     ]
    }
   ],
   "source": [
    "# k를 넘으면 해당 유저를 신고한 인원 파악\n",
    "# 어케하나면 report 에서 해당 유저를 탐색 split()[1] 있으면 split()[0]이 신고한 유저임 \n",
    "for k in report : \n",
    "    if 'neo' in k.split()[1] : \n",
    "        print(k.split()[0])"
   ]
  }
 ],
 "metadata": {
  "kernelspec": {
   "display_name": "Python 3",
   "language": "python",
   "name": "python3"
  },
  "language_info": {
   "codemirror_mode": {
    "name": "ipython",
    "version": 3
   },
   "file_extension": ".py",
   "mimetype": "text/x-python",
   "name": "python",
   "nbconvert_exporter": "python",
   "pygments_lexer": "ipython3",
   "version": "3.11.0"
  },
  "orig_nbformat": 4,
  "vscode": {
   "interpreter": {
    "hash": "c261aea317cc0286b3b3261fbba9abdec21eaa57589985bb7a274bf54d6cc0a7"
   }
  }
 },
 "nbformat": 4,
 "nbformat_minor": 2
}
